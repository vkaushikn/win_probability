{
 "cells": [
  {
   "cell_type": "code",
   "execution_count": 2,
   "metadata": {},
   "outputs": [],
   "source": [
    "from collections import namedtuple\n",
    "from functools import partial\n",
    "from itertools import product\n",
    "import pandas as pd\n",
    "from toolz import groupby, pipe\n",
    "from typing import Iterator, List, Text, Tuple"
   ]
  },
  {
   "cell_type": "code",
   "execution_count": 3,
   "metadata": {},
   "outputs": [],
   "source": [
    "def process_first_innings_df():\n",
    "    df = pd.read_csv('ODIs/win_probability_1st_innings.csv')\n",
    "    # we only want the elements at the end of the over\n",
    "    df = df[df.Ball == 6]\n",
    "    # there seems to be some spurious data in the Runs column - Cleaning that up\n",
    "    df['Runs1'] = df['overs_balls'] * df['RunRate']\n",
    "    df['Runs1'] = df.Runs1.astype(int)\n",
    "    df = df[['Over', 'Wickets', 'Runs1', 'Runs',\n",
    "             'win_probability', 'score', \n",
    "             'score_lo', 'score_hi', \n",
    "             'overs_balls', 'RunRate']].drop_duplicates()\n",
    "    df = df[(df.Runs == df.Runs1)]\n",
    "    df = df[['Over', 'Wickets', 'Runs', 'win_probability', 'score', 'score_lo', 'score_hi']]\n",
    "    df.sort_values(by=['Over', 'Wickets', 'Runs'], inplace=True)\n",
    "    # If there are repeated elements, get the max win probability element\n",
    "    df['max_repeat'] = (df.groupby(['Over', 'Wickets', 'Runs'], \n",
    "                                   as_index=False)['win_probability'].\n",
    "                       transform(lambda x: x.max()))\n",
    "    df = df[df.win_probability == df.max_repeat]\n",
    "    return df\n",
    "    \n",
    "def process_second_innings_df():\n",
    "    df = pd.read_csv('ODIs/win_probability_2nd_innings.csv')\n",
    "    #we only want the elements at the end of the over\n",
    "    #df['max_ball'] = df.groupby(['Over', 'game_id'], as_index=False)['Ball'].transform(lambda x: x.max())\n",
    "    df = df[df.Ball == 6]\n",
    "    # there seems to be some spurious data in the Runs column - Cleaning that up\n",
    "    # recall that run rate is the required run rate for the second innings\n",
    "    df['Runs1'] = df.Target - ((50 - df['overs_balls']) * df['RunRate'])\n",
    "    df['Runs1'] = df.Runs1.astype(int)\n",
    "    df = df[['Over', 'Wickets', 'Runs1', 'Runs', 'Target',\n",
    "             'win_probability', 'score', \n",
    "             'score_lo', 'score_hi', \n",
    "             'overs_balls', 'RunRate']].drop_duplicates()\n",
    "    df = df[(df.Runs == df.Runs1)]\n",
    "    df = df[['Over', 'Wickets', 'Runs', 'Target', 'win_probability', 'score', 'score_lo', 'score_hi']]\n",
    "    df.sort_values(by=['Over', 'Wickets', 'Runs'], inplace=True)\n",
    "    # # If there are repeated elements, get the max win probability element\n",
    "    df['max_repeat'] = (df.groupby(['Over', 'Wickets', 'Runs'], \n",
    "                                   as_index=False)['win_probability'].\n",
    "                       transform(lambda x: x.max()))\n",
    "    df = df[df.win_probability == df.max_repeat]\n",
    "\n",
    "    # Now we want to change the meaning of the state\n",
    "    df['Over'] = 50 - df['Over']\n",
    "    df['Runs'] = df['Target'] - df['Runs']\n",
    "    df['Wickets'] = 10 - df['Wickets']\n",
    "\n",
    "    assert max(df.Wickets) == 10\n",
    "    assert max(df.Over) == 49\n",
    "    assert min(df.Over) == 0\n",
    "    assert min(df.Wickets) == 0\n",
    "\n",
    "    df['score'] = -1\n",
    "    df['score_lo'] = -1\n",
    "    df['score_hi'] = -1\n",
    "    return df"
   ]
  },
  {
   "cell_type": "code",
   "execution_count": 5,
   "metadata": {},
   "outputs": [],
   "source": [
    "State = namedtuple('State', [\"Over\", \"Wicket\", \"Runs\"])\n",
    "WinProbability = namedtuple('WinProbability', [\"win_probability\", \"mean\", \"lo\", \"hi\"])\n",
    "\n",
    "def extract_win_probability(row) -> Tuple[State, WinProbability]:\n",
    "    state = State(row.Over, row.Wickets, row.Runs)\n",
    "    win_probability = WinProbability(row.win_probability, row.score, row.score_lo, row.score_hi)\n",
    "    return state, win_probability\n",
    "\n",
    "def match(pairs: List[Tuple[State, WinProbability]], \n",
    "          attribute_value: int,\n",
    "          attribute_name: Text) -> List[Tuple[State, WinProbability]]:\n",
    "    grped = groupby(lambda pair: getattr(pair[0], attribute_name ), pairs)\n",
    "    matched_attribute_value = sorted(((attr_val, abs(attr_val - attribute_value)) \n",
    "                                      for attr_val in grped), key=lambda k: k[1])[0][0]\n",
    "    \n",
    "    return grped[matched_attribute_value]\n",
    "\n",
    "def closest(state: State, pairs: List[Tuple[State, WinProbability]]) -> WinProbability:\n",
    "    match_over = partial(match, attribute_value=state.Over, attribute_name='Over')\n",
    "    match_wickets = partial(match, attribute_value=state.Wicket, attribute_name='Wicket')\n",
    "    match_runs = partial(match, attribute_value=state.Runs, attribute_name=\"Runs\")\n",
    "    best = pipe(pairs, match_over, match_runs, match_wickets)\n",
    "    assert len(best) > 0\n",
    "    return best[0][1]\n",
    "\n",
    "def fill_wp_matrix(pairs: List[Tuple[State, WinProbability]],\n",
    "                  innings: int) -> Iterator[Tuple[State, WinProbability]]:\n",
    "    overs = range(0, 50) if innings == 2 else range(1, 51)\n",
    "    wickets = range(0, 11)\n",
    "    runs = range(0, 500)\n",
    "    for (over, wicket, run) in product(overs, wickets, runs):\n",
    "        state = State(over, wicket, run)\n",
    "        win_probability = closest(state, pairs)\n",
    "        yield state, win_probability\n",
    "        \n",
    "def write_to_file(location: Text, innings: int, df: pd.DataFrame) -> None: \n",
    "    pairs = [extract_win_probability(row) for row in df.itertuples()]\n",
    "    with open(location, \"w\") as f:\n",
    "        for c, (state, win_probability) in enumerate(fill_wp_matrix(pairs, innings=innings)):\n",
    "            if c % 27500 == 0:\n",
    "                print(c)\n",
    "            wp = win_probability.win_probability\n",
    "            score = win_probability.mean\n",
    "            lo = win_probability.lo\n",
    "            hi = win_probability.hi\n",
    "            over = state.Over\n",
    "            wicket = state.Wicket\n",
    "            run = state.Runs\n",
    "            f.write(\"{0}\\t{1}\\t{2}\\t{3}\\t{4}\\t{5}\\t{6}\\n\".format(\n",
    "                over, wicket, run, wp, score, lo, hi))"
   ]
  },
  {
   "cell_type": "code",
   "execution_count": 6,
   "metadata": {},
   "outputs": [
    {
     "name": "stdout",
     "output_type": "stream",
     "text": [
      "0\n",
      "27500\n",
      "55000\n",
      "82500\n",
      "110000\n",
      "137500\n",
      "165000\n",
      "192500\n",
      "220000\n",
      "247500\n"
     ]
    }
   ],
   "source": [
    "innings = 2\n",
    "write_to_file(\"ODIs/probs_i2_odi.txt\" , 2, process_second_innings_df())"
   ]
  },
  {
   "cell_type": "code",
   "execution_count": 7,
   "metadata": {},
   "outputs": [],
   "source": [
    "df =  process_second_innings_df()\n",
    "pairs = [extract_win_probability(row) for row in df.itertuples()]"
   ]
  },
  {
   "cell_type": "code",
   "execution_count": 10,
   "metadata": {},
   "outputs": [
    {
     "data": {
      "text/plain": [
       "(State(Over=1, Wicket=4, Runs=2),\n",
       " WinProbability(win_probability=0.02080609680676171, mean=-1, lo=-1, hi=-1))"
      ]
     },
     "execution_count": 10,
     "metadata": {},
     "output_type": "execute_result"
    }
   ],
   "source": [
    "pairs[-102]"
   ]
  },
  {
   "cell_type": "code",
   "execution_count": null,
   "metadata": {},
   "outputs": [],
   "source": [
    "closest(St)"
   ]
  }
 ],
 "metadata": {
  "kernelspec": {
   "display_name": "Python 3",
   "language": "python",
   "name": "python3"
  },
  "language_info": {
   "codemirror_mode": {
    "name": "ipython",
    "version": 3
   },
   "file_extension": ".py",
   "mimetype": "text/x-python",
   "name": "python",
   "nbconvert_exporter": "python",
   "pygments_lexer": "ipython3",
   "version": "3.7.3"
  }
 },
 "nbformat": 4,
 "nbformat_minor": 2
}

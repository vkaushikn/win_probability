{
 "cells": [
  {
   "cell_type": "code",
   "execution_count": 1,
   "metadata": {},
   "outputs": [],
   "source": [
    "import win_probability\n",
    "import pandas as pd\n",
    "pd.set_option('mode.chained_assignment', None)"
   ]
  },
  {
   "cell_type": "code",
   "execution_count": 2,
   "metadata": {},
   "outputs": [],
   "source": [
    "params_df = win_probability.fit('ODIs', 50, 1.0)\n",
    "params_df.to_csv('ODIs/parameters1.csv', index=False)"
   ]
  },
  {
   "cell_type": "code",
   "execution_count": 3,
   "metadata": {},
   "outputs": [],
   "source": [
    "from glob import glob\n",
    "import re\n",
    "from matplotlib.backends.backend_pdf import PdfPages\n",
    "import matplotlib.pyplot as plt\n",
    "\n",
    "location = \"ODIs\"\n",
    "ball_by_ball_match_string= \"{0}/data/ball_by_ball/([0-9]*).csv\".format(location)\n",
    "\n",
    "ball_by_ball_file_names = glob('{0}/data/ball_by_ball/*.csv'.format(location))\n",
    "game_ids = set(map(lambda x: re.match(ball_by_ball_match_string, x).groups()[0],\n",
    "                                                  ball_by_ball_file_names))\n",
    "params_df = pd.read_csv('ODIs/parameters1.csv')\n",
    "params_1_df = params_df[params_df.innings == 1] \n",
    "params_2_df = params_df[params_df.innings == 2]"
   ]
  },
  {
   "cell_type": "code",
   "execution_count": 4,
   "metadata": {},
   "outputs": [],
   "source": [
    "def process_single_game(game_id):\n",
    "    bb = pd.read_csv('ODIs/data/ball_by_ball/{0}.csv'.format(game_id))\n",
    "    md = pd.read_csv('ODIs/data/match_summary/{0}.csv'.format(game_id))\n",
    "    if not md.Reduced_Over.values[0]:\n",
    "        fid, sid = win_probability.predict_game(bb, 50, params_1_df, params_2_df)\n",
    "        fig = win_probability.plot_game(fid, sid, md, 50)\n",
    "        return fid, sid, fig\n",
    "    return None, None, None"
   ]
  },
  {
   "cell_type": "code",
   "execution_count": 5,
   "metadata": {},
   "outputs": [
    {
     "name": "stderr",
     "output_type": "stream",
     "text": [
      "/Users/kaushik/win_probability/win_probability.py:85: UserWarning: Empty data frame\n",
      "  warnings.warn('Empty data frame')\n"
     ]
    },
    {
     "name": "stdout",
     "output_type": "stream",
     "text": [
      "1158068\n",
      "1089781\n",
      "810831\n"
     ]
    },
    {
     "data": {
      "image/png": "[encoded data removed]",
      "text/plain": [
       "<Figure size 1440x720 with 1 Axes>"
      ]
     },
     "metadata": {
      "needs_background": "light"
     },
     "output_type": "display_data"
    },
    {
     "data": {
      "image/png": "[encoded data removed]",
      "text/plain": [
       "<Figure size 1440x720 with 1 Axes>"
      ]
     },
     "metadata": {
      "needs_background": "light"
     },
     "output_type": "display_data"
    },
    {
     "data": {
      "image/png": "[encoded data removed]",
      "text/plain": [
       "<Figure size 1440x720 with 1 Axes>"
      ]
     },
     "metadata": {
      "needs_background": "light"
     },
     "output_type": "display_data"
    }
   ],
   "source": [
    "pdf = PdfPages('ODIs/win_probability_graphs_1.pdf')\n",
    "first_inningses = []\n",
    "second_inningses = []\n",
    "for game_id in game_ids:\n",
    "    try:\n",
    "        fid, sid , fig = process_single_game(game_id)\n",
    "        if fid is not None:\n",
    "            pdf.savefig(fig)\n",
    "            plt.close()\n",
    "            fid['game_id'] = game_id\n",
    "            sid['game_id'] = game_id\n",
    "            first_inningses.append(fid)\n",
    "            second_inningses.append(sid)\n",
    "    except:\n",
    "        print(game_id)\n",
    "        continue\n",
    "\n",
    "pdf.close()\n",
    "pd.concat(first_inningses).to_csv('ODIs/win_probability_1st_innings_1.csv', index=False)\n",
    "pd.concat(second_inningses).to_csv('ODIs/win_probability_2nd_innings_1.csv', index=False)\n"
   ]
  },
  {
   "cell_type": "code",
   "execution_count": 6,
   "metadata": {},
   "outputs": [],
   "source": [
    "params_df = pd.read_csv('ODIs/parameters.csv')\n",
    "params_1_df = params_df[params_df.innings == 1] \n",
    "params_2_df = params_df[params_df.innings == 2]\n",
    "\n",
    "gen = win_probability.win_probability_matrix_generator(params_1_df, params_2_df, 50)\n",
    "def write_first_innnings(prediction):\n",
    "    over = prediction.Over\n",
    "    wicket = prediction.Wickets\n",
    "    run = prediction.Runs\n",
    "    wp = prediction.win_probability\n",
    "    score = prediction.score\n",
    "    lo = prediction.score_lo\n",
    "    hi = prediction.score_hi\n",
    "    \n",
    "    return \"\\t\".join([str(x) for x in [over,\n",
    "                                       wicket,\n",
    "                                       run,\n",
    "                                       wp,\n",
    "                                       score,\n",
    "                                       lo,\n",
    "                                       hi]])+\"\\n\"\n",
    "\n",
    "def write_second_innings(prediction):\n",
    "    over = 50 - prediction.Over\n",
    "    wicket = 10 - prediction.Wickets\n",
    "    run = prediction.Runs\n",
    "    wp = 1 - prediction.win_probability\n",
    "    score = prediction.score\n",
    "    lo = prediction.score_lo\n",
    "    hi = prediction.score_hi\n",
    "    \n",
    "    return \"\\t\".join([str(x) for x in [over,\n",
    "                                       wicket,\n",
    "                                       run,\n",
    "                                       wp,\n",
    "                                       score,\n",
    "                                       lo,\n",
    "                                       hi]])+\"\\n\"\n",
    "f1 = open('ODIs/probs_i1_from_model_1.txt', 'w')\n",
    "f2 = open('ODIs/probs_i2_from_model_1.txt', 'w')\n",
    "\n",
    "for p1, p2 in gen:\n",
    "    f1.write(write_first_innnings(p1))\n",
    "    f2.write(write_second_innings(p2))\n",
    "f1.close()\n",
    "f2.close()"
   ]
  }
 ],
 "metadata": {
  "kernelspec": {
   "display_name": "Python 3",
   "language": "python",
   "name": "python3"
  },
  "language_info": {
   "codemirror_mode": {
    "name": "ipython",
    "version": 3
   },
   "file_extension": ".py",
   "mimetype": "text/x-python",
   "name": "python",
   "nbconvert_exporter": "python",
   "pygments_lexer": "ipython3",
   "version": "3.7.3"
  }
 },
 "nbformat": 4,
 "nbformat_minor": 2
}
